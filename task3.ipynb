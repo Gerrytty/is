{
 "cells": [
  {
   "cell_type": "code",
   "execution_count": 1,
   "id": "9498cd59",
   "metadata": {},
   "outputs": [],
   "source": [
    "import os\n",
    "import pymorphy2"
   ]
  },
  {
   "cell_type": "code",
   "execution_count": 2,
   "id": "831399b9",
   "metadata": {},
   "outputs": [],
   "source": [
    "l = [\"AND\", \"OR\", \"NOT\"]"
   ]
  },
  {
   "cell_type": "code",
   "execution_count": 3,
   "id": "86a55591",
   "metadata": {},
   "outputs": [],
   "source": [
    "def to_normal_form(arr):\n",
    "    morph = pymorphy2.MorphAnalyzer(lang='ru')\n",
    "\n",
    "    normal_form = []\n",
    "\n",
    "    for i, word in enumerate(arr):\n",
    "        if word not in l:\n",
    "            p = morph.parse(word)[0]\n",
    "            word_in_normal_form = p.normal_form\n",
    "            normal_form.append(word_in_normal_form)\n",
    "        else:\n",
    "            normal_form.append(word)\n",
    "\n",
    "    return normal_form"
   ]
  },
  {
   "cell_type": "code",
   "execution_count": 4,
   "id": "300cccd4",
   "metadata": {},
   "outputs": [],
   "source": [
    "def create_index(path_to_files):\n",
    "    files = [f\"{i}.txt\" for i in range(100)]\n",
    "\n",
    "    word_map_to_document = dict()\n",
    "\n",
    "    for i, filename in enumerate(files):\n",
    "        with open(f\"{path_to_files}/{filename}\", \"r\") as file:\n",
    "            words = file.readline().split()\n",
    "            for word in words:\n",
    "                if word not in word_map_to_document:\n",
    "                    word_map_to_document[word] = {i}\n",
    "                else:\n",
    "                    word_map_to_document.get(word).add(i)\n",
    "\n",
    "    return word_map_to_document\n"
   ]
  },
  {
   "cell_type": "code",
   "execution_count": 5,
   "id": "62c45266",
   "metadata": {},
   "outputs": [],
   "source": [
    "def func_by_token(token, set_to_operate, set_to_insert):\n",
    "    if token == \"NOT\":\n",
    "        set_to_operate.difference_update(set_to_insert)\n",
    "\n",
    "    if token == \"AND\":\n",
    "        set_to_operate.intersection_update(set_to_insert)\n",
    "\n",
    "    if token == \"OR\":\n",
    "        set_to_operate.update(set_to_insert)\n",
    "\n",
    "    return set_to_operate"
   ]
  },
  {
   "cell_type": "code",
   "execution_count": 6,
   "id": "80561d5b",
   "metadata": {},
   "outputs": [],
   "source": [
    "def parse(list_of_tokens, dict_of_words, n=100):\n",
    "\n",
    "    list_of_tokens = to_normal_form(list_of_tokens)\n",
    "\n",
    "    if list_of_tokens[0] != \"NOT\":\n",
    "        set_of_all_docs = set(dict_of_words[list_of_tokens[0]])\n",
    "        i = 1\n",
    "    else:\n",
    "        set_of_all_docs = set(range(0, n))\n",
    "        set_of_all_docs.difference_update(dict_of_words[list_of_tokens[1]])\n",
    "        i = 2\n",
    "\n",
    "    while i < len(list_of_tokens) - 1:\n",
    "        token = list_of_tokens[i]\n",
    "        next_token = list_of_tokens[i + 1]\n",
    "\n",
    "        if next_token != \"NOT\":\n",
    "            func_by_token(token, set_of_all_docs, dict_of_words[next_token])\n",
    "            i += 2\n",
    "\n",
    "        else:\n",
    "            set_of_docs_without_next_token = set(range(0, n)).difference(dict_of_words[list_of_tokens[i + 2]])\n",
    "            func_by_token(token, set_of_all_docs, set_of_docs_without_next_token)\n",
    "            i += 3\n",
    "\n",
    "    return set_of_all_docs\n"
   ]
  },
  {
   "cell_type": "code",
   "execution_count": 7,
   "id": "d56400bd",
   "metadata": {},
   "outputs": [],
   "source": [
    "def simple_demo(search, n=6):\n",
    "    dict_of_words = {\"день\": [0, 1, 2, 3],\n",
    "                     \"ночь\": [1, 2, 4, 5],\n",
    "                     \"солнце\": [2, 3, 4],\n",
    "                     \"море\": [4]}\n",
    "\n",
    "    list_of_tokens = search.split(\" \")\n",
    "\n",
    "    s = parse(list_of_tokens, dict_of_words, n)\n",
    "\n",
    "    print(s)"
   ]
  },
  {
   "cell_type": "code",
   "execution_count": 8,
   "id": "cc3b7975",
   "metadata": {},
   "outputs": [
    {
     "name": "stdout",
     "output_type": "stream",
     "text": [
      "{4}\n"
     ]
    }
   ],
   "source": [
    "simple_demo(\"NOT день AND ночь AND солнце\")"
   ]
  },
  {
   "cell_type": "code",
   "execution_count": 9,
   "id": "e8e518b9",
   "metadata": {},
   "outputs": [
    {
     "name": "stdout",
     "output_type": "stream",
     "text": [
      "{1, 2, 4}\n"
     ]
    }
   ],
   "source": [
    "simple_demo(\"день AND ночь OR море\")"
   ]
  },
  {
   "cell_type": "code",
   "execution_count": 10,
   "id": "8c4eb641",
   "metadata": {},
   "outputs": [
    {
     "name": "stdout",
     "output_type": "stream",
     "text": [
      "{0, 1, 2, 3, 5}\n"
     ]
    }
   ],
   "source": [
    "simple_demo(\"день AND ночь OR NOT море\")"
   ]
  },
  {
   "cell_type": "code",
   "execution_count": 11,
   "id": "0acb6ed2",
   "metadata": {},
   "outputs": [],
   "source": [
    "def main():\n",
    "    dict_of_words = create_index(\"normal_form_docs\")\n",
    "    search1 = \"школа AND инновация AND NOT медик\"\n",
    "    set1 = parse(search1.split(\" \"), dict_of_words)\n",
    "    print(f\"On search {search1} answear is {set1}\")\n",
    "    \n",
    "    search2 = \"научный AND библиотека AND медик\"\n",
    "    set2 = parse(search2.split(\" \"), dict_of_words)\n",
    "    print(f\"On search {search2} answear is {set2}\")"
   ]
  },
  {
   "cell_type": "code",
   "execution_count": 12,
   "id": "5a961816",
   "metadata": {},
   "outputs": [
    {
     "name": "stdout",
     "output_type": "stream",
     "text": [
      "On search школа AND инновация AND NOT медик answear is {0, 15, 17, 20, 85, 22, 86, 24, 89, 87}\n",
      "On search научный AND библиотека AND медик answear is {47}\n"
     ]
    }
   ],
   "source": [
    "main()"
   ]
  }
 ],
 "metadata": {
  "kernelspec": {
   "display_name": "Python 3 (ipykernel)",
   "language": "python",
   "name": "python3"
  },
  "language_info": {
   "codemirror_mode": {
    "name": "ipython",
    "version": 3
   },
   "file_extension": ".py",
   "mimetype": "text/x-python",
   "name": "python",
   "nbconvert_exporter": "python",
   "pygments_lexer": "ipython3",
   "version": "3.8.10"
  }
 },
 "nbformat": 4,
 "nbformat_minor": 5
}
